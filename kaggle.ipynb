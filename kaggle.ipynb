{
 "cells": [
  {
   "cell_type": "code",
   "execution_count": 21,
   "id": "49fc2495",
   "metadata": {},
   "outputs": [],
   "source": [
    "import torch\n",
    "import torch.nn as nn"
   ]
  },
  {
   "cell_type": "code",
   "execution_count": 22,
   "id": "63d0a5e5",
   "metadata": {},
   "outputs": [],
   "source": [
    "class DiffusionForwardProcess:\n",
    "    \n",
    "    r\"\"\"\n",
    "    \n",
    "    Forward Process class as described in the \n",
    "    paper \"Denoising Diffusion Probabilistic Models\"\n",
    "    \n",
    "    \"\"\"\n",
    "    \n",
    "    def __init__(self, \n",
    "                 num_time_steps = 1000, \n",
    "                 beta_start = 1e-4, \n",
    "                 beta_end = 0.02\n",
    "                ):\n",
    "        \n",
    "        # Precomputing beta, alpha, and alpha_bar for all t's.\n",
    "        self.betas = torch.linspace(beta_start, beta_end, num_time_steps)\n",
    "        self.alphas = 1 - self.betas\n",
    "        self.alpha_bars = torch.cumprod(self.alphas, dim=0)\n",
    "        self.sqrt_alpha_bars = torch.sqrt(self.alpha_bars)\n",
    "        self.sqrt_one_minus_alpha_bars = torch.sqrt(1 - self.alpha_bars)\n",
    "        \n",
    "    def add_noise(self, original, noise, t):\n",
    "        \n",
    "        r\"\"\" Adds noise to a batch of original images at time-step t.\n",
    "        \n",
    "        :param original: Input Image Tensor\n",
    "        :param noise: Random Noise Tensor sampled from Normal Dist N(0, 1)\n",
    "        :param t: timestep of the forward process of shape -> (B, )\n",
    "        \n",
    "        Note: time-step t may differ for each image inside the batch.\n",
    "        \n",
    "        \"\"\"\n",
    "        \n",
    "        sqrt_alpha_bar_t = self.sqrt_alpha_bars.to(original.device)[t]\n",
    "        sqrt_one_minus_alpha_bar_t = self.sqrt_one_minus_alpha_bars.to(original.device)[t]\n",
    "        \n",
    "        # Broadcast to multiply with the original image.\n",
    "        sqrt_alpha_bar_t = sqrt_alpha_bar_t[:, None, None, None]\n",
    "        sqrt_one_minus_alpha_bar_t = sqrt_one_minus_alpha_bar_t[:, None, None, None]\n",
    "        \n",
    "        # Return\n",
    "        return (sqrt_alpha_bar_t * original) \\\n",
    "                           + \\\n",
    "               (sqrt_one_minus_alpha_bar_t * noise)\n",
    "# Test"
   ]
  },
  {
   "cell_type": "code",
   "execution_count": 23,
   "id": "fd28ca9b",
   "metadata": {},
   "outputs": [
    {
     "data": {
      "text/plain": [
       "torch.Size([4, 1, 28, 28])"
      ]
     },
     "execution_count": 23,
     "metadata": {},
     "output_type": "execute_result"
    }
   ],
   "source": [
    "original = torch.randn(4, 1, 28, 28)\n",
    "noise = torch.randn(4, 1, 28, 28)\n",
    "t_steps = torch.randint(0, 1000, (4,)) \n",
    "\n",
    "# Forward Process\n",
    "dfp = DiffusionForwardProcess()\n",
    "out = dfp.add_noise(original, noise, t_steps)\n",
    "out.shape"
   ]
  },
  {
   "cell_type": "code",
   "execution_count": 24,
   "id": "e2f6735a",
   "metadata": {},
   "outputs": [],
   "source": [
    "\n",
    "class DiffusionReverseProcess:\n",
    "    \n",
    "    r\"\"\"\n",
    "    \n",
    "    Reverse Process class as described in the \n",
    "    paper \"Denoising Diffusion Probabilistic Models\"\n",
    "    \n",
    "    \"\"\"\n",
    "    \n",
    "    def __init__(self, \n",
    "                 num_time_steps = 1000, \n",
    "                 beta_start = 1e-4, \n",
    "                 beta_end = 0.02\n",
    "                ):\n",
    "        \n",
    "        # Precomputing beta, alpha, and alpha_bar for all t's.\n",
    "        self.b = torch.linspace(beta_start, beta_end, num_time_steps) # b -> beta\n",
    "        self.a = 1 - self.b # a -> alpha\n",
    "        self.a_bar = torch.cumprod(self.a, dim=0) # a_bar = alpha_bar\n",
    "        \n",
    "    def sample_prev_timestep(self, xt, noise_pred, t):\n",
    "        \n",
    "        r\"\"\" Sample x_(t-1) given x_t and noise predicted\n",
    "             by model.\n",
    "             \n",
    "             :param xt: Image tensor at timestep t of shape -> B x C x H x W\n",
    "             :param noise_pred: Noise Predicted by model of shape -> B x C x H x W\n",
    "             :param t: Current time step\n",
    "\n",
    "        \"\"\"\n",
    "        \n",
    "        # Original Image Prediction at timestep t\n",
    "        x0 = xt - (torch.sqrt(1 - self.a_bar.to(xt.device)[t]) * noise_pred)\n",
    "        x0 = x0/torch.sqrt(self.a_bar.to(xt.device)[t])\n",
    "        x0 = torch.clamp(x0, -1., 1.) \n",
    "        \n",
    "        # mean of x_(t-1)\n",
    "        mean = (xt - ((1 - self.a.to(xt.device)[t]) * noise_pred)/(torch.sqrt(1 - self.a_bar.to(xt.device)[t])))\n",
    "        mean = mean/(torch.sqrt(self.a.to(xt.device)[t]))\n",
    "        \n",
    "        # only return mean\n",
    "        if t == 0:\n",
    "            return mean, x0\n",
    "        \n",
    "        else:\n",
    "            variance =  (1 - self.a_bar.to(xt.device)[t-1])/(1 - self.a_bar.to(xt.device)[t])\n",
    "            variance = variance * self.b.to(xt.device)[t]\n",
    "            sigma = variance**0.5\n",
    "            z = torch.randn(xt.shape).to(xt.device)\n",
    "            \n",
    "            return mean + sigma * z, x0"
   ]
  },
  {
   "cell_type": "code",
   "execution_count": 25,
   "id": "467c53e0",
   "metadata": {},
   "outputs": [
    {
     "data": {
      "text/plain": [
       "torch.Size([1, 1, 28, 28])"
      ]
     },
     "execution_count": 25,
     "metadata": {},
     "output_type": "execute_result"
    }
   ],
   "source": [
    "original = torch.randn(1, 1, 28, 28)\n",
    "noise_pred = torch.randn(1, 1, 28, 28)\n",
    "t = torch.randint(0, 1000, (1,)) \n",
    "\n",
    "# Forward Process\n",
    "drp = DiffusionReverseProcess()\n",
    "out, x0 = drp.sample_prev_timestep(original, noise_pred, t)\n",
    "out.shape"
   ]
  },
  {
   "cell_type": "code",
   "execution_count": 26,
   "id": "e5ffbf3c",
   "metadata": {},
   "outputs": [],
   "source": [
    "def get_time_embedding(\n",
    "    time_steps: torch.Tensor,\n",
    "    t_emb_dim: int\n",
    ") -> torch.Tensor:\n",
    "    \n",
    "    \"\"\" \n",
    "    Transform a scalar time-step into a vector representation of size t_emb_dim.\n",
    "    \n",
    "    :param time_steps: 1D tensor of size -> (Batch,)\n",
    "    :param t_emb_dim: Embedding Dimension -> for ex: 128 (scalar value)\n",
    "    \n",
    "    :return tensor of size -> (B, t_emb_dim)\n",
    "    \"\"\"\n",
    "    \n",
    "    assert t_emb_dim%2 == 0, \"time embedding must be divisible by 2.\"\n",
    "    \n",
    "    factor = 2 * torch.arange(start = 0, \n",
    "                              end = t_emb_dim//2, \n",
    "                              dtype=torch.float32, \n",
    "                              device=time_steps.device\n",
    "                             ) / (t_emb_dim)\n",
    "    \n",
    "    factor = 10000**factor\n",
    "\n",
    "    t_emb = time_steps[:,None] # B -> (B, 1) \n",
    "    t_emb = t_emb/factor # (B, 1) -> (B, t_emb_dim//2)\n",
    "    t_emb = torch.cat([torch.sin(t_emb), torch.cos(t_emb)], dim=1) # (B , t_emb_dim)\n",
    "    \n",
    "    return t_emb"
   ]
  },
  {
   "cell_type": "code",
   "execution_count": 27,
   "id": "e32ac72b",
   "metadata": {},
   "outputs": [],
   "source": [
    "class NormActConv(nn.Module):\n",
    "    \"\"\"\n",
    "    Perform GroupNorm, Activation, and Convolution operations.\n",
    "    \"\"\"\n",
    "    def __init__(self, \n",
    "                 in_channels:int, \n",
    "                 out_channels:int, \n",
    "                 num_groups:int = 8, \n",
    "                 kernel_size: int = 3, \n",
    "                 norm:bool = True,\n",
    "                 act:bool = True\n",
    "                ):\n",
    "        super(NormActConv, self).__init__()\n",
    "        \n",
    "        # GroupNorm\n",
    "        self.g_norm = nn.GroupNorm(\n",
    "            num_groups,\n",
    "            in_channels\n",
    "        ) if norm is True else nn.Identity()\n",
    "        \n",
    "        # Activation\n",
    "        self.act = nn.SiLU() if act is True else nn.Identity()\n",
    "        \n",
    "        # Convolution\n",
    "        self.conv = nn.Conv2d(\n",
    "            in_channels,\n",
    "            out_channels,\n",
    "            kernel_size, \n",
    "            padding=(kernel_size - 1)//2\n",
    "        )\n",
    "        \n",
    "    def forward(self, x):\n",
    "        x = self.g_norm(x)\n",
    "        x = self.act(x)\n",
    "        x = self.conv(x)\n",
    "        return x\n",
    "    \n",
    "#-----------------------------------------------------------------\n",
    "\n",
    "class TimeEmbedding(nn.Module):\n",
    "    \"\"\"\n",
    "    Maps the Time Embedding to the Required output Dimension.\n",
    "    \"\"\"\n",
    "    def __init__(self, \n",
    "                 n_out:int, # Output Dimension\n",
    "                 t_emb_dim:int = 128 # Time Embedding Dimension\n",
    "                ):\n",
    "        super(TimeEmbedding, self).__init__()\n",
    "        \n",
    "        # Time Embedding Block\n",
    "        self.te_block = nn.Sequential(\n",
    "            nn.SiLU(), \n",
    "            nn.Linear(t_emb_dim, n_out)\n",
    "        )\n",
    "        \n",
    "    def forward(self, x):\n",
    "        return self.te_block(x)\n",
    "    \n",
    "#---------------------------------------------------------------\n",
    "\n",
    "class SelfAttentionBlock(nn.Module):\n",
    "    \"\"\"\n",
    "    Perform GroupNorm and Multiheaded Self Attention operation.    \n",
    "    \"\"\"\n",
    "    def __init__(self, \n",
    "                 num_channels:int,\n",
    "                 num_groups:int = 8, \n",
    "                 num_heads:int = 4,\n",
    "                 norm:bool = True\n",
    "                ):\n",
    "        super(SelfAttentionBlock, self).__init__()\n",
    "        \n",
    "        # GroupNorm\n",
    "        self.g_norm = nn.GroupNorm(\n",
    "            num_groups,\n",
    "            num_channels\n",
    "        ) if norm is True else nn.Identity()\n",
    "        \n",
    "        # Self-Attention\n",
    "        self.attn = nn.MultiheadAttention(\n",
    "            num_channels,\n",
    "            num_heads, \n",
    "            batch_first=True\n",
    "        )\n",
    "        \n",
    "    def forward(self, x):\n",
    "        batch_size, channels, h, w = x.shape\n",
    "        x = x.reshape(batch_size, channels, h*w)\n",
    "        x = self.g_norm(x)\n",
    "        x = x.transpose(1, 2)\n",
    "        x, _ = self.attn(x, x, x)\n",
    "        x = x.transpose(1, 2).reshape(batch_size, channels, h, w)\n",
    "        return x\n",
    "    \n",
    "#----------------------------------------------------------------\n",
    "\n",
    "class Downsample(nn.Module):\n",
    "    \"\"\"\n",
    "    Perform Downsampling by the factor of k across Height and Width.\n",
    "    \"\"\"\n",
    "    def __init__(self, \n",
    "                 in_channels:int, \n",
    "                 out_channels:int, \n",
    "                 k:int = 2, # Downsampling factor\n",
    "                 use_conv:bool = True, # If Downsampling using conv-block\n",
    "                 use_mpool:bool = True # If Downsampling using max-pool\n",
    "                ):\n",
    "        super(Downsample, self).__init__()\n",
    "        \n",
    "        self.use_conv = use_conv\n",
    "        self.use_mpool = use_mpool\n",
    "        \n",
    "        # Downsampling using Convolution\n",
    "        self.cv = nn.Sequential(\n",
    "            nn.Conv2d(in_channels, in_channels, kernel_size=1), \n",
    "            nn.Conv2d(\n",
    "                in_channels, \n",
    "                out_channels//2 if use_mpool else out_channels, \n",
    "                kernel_size=4, \n",
    "                stride=k, \n",
    "                padding=1\n",
    "            )\n",
    "        ) if use_conv else nn.Identity()\n",
    "        \n",
    "        # Downsampling using Maxpool\n",
    "        self.mpool = nn.Sequential(\n",
    "            nn.MaxPool2d(k, k), \n",
    "            nn.Conv2d(\n",
    "                in_channels, \n",
    "                out_channels//2 if use_conv else out_channels, \n",
    "                kernel_size=1, \n",
    "                stride=1, \n",
    "                padding=0\n",
    "            )\n",
    "        ) if use_mpool else nn.Identity()\n",
    "        \n",
    "    def forward(self, x):\n",
    "        \n",
    "        if not self.use_conv:\n",
    "            return self.mpool(x)\n",
    "        \n",
    "        if not self.use_mpool:\n",
    "            return self.cv(x)\n",
    "            \n",
    "        return torch.cat([self.cv(x), self.mpool(x)], dim=1)\n",
    "    \n",
    "#-----------------------------------------------------------------------\n",
    "\n",
    "class Upsample(nn.Module):\n",
    "    \"\"\"\n",
    "    Perform Upsampling by the factor of k across Height and Width\n",
    "    \"\"\"\n",
    "    def __init__(self, \n",
    "                 in_channels:int, \n",
    "                 out_channels:int, \n",
    "                 k:int = 2, # Upsampling factor\n",
    "                 use_conv:bool = True, # Upsampling using conv-block\n",
    "                 use_upsample:bool = True # Upsampling using nn.upsample\n",
    "                ):\n",
    "        super(Upsample, self).__init__()\n",
    "        \n",
    "        self.use_conv = use_conv\n",
    "        self.use_upsample = use_upsample\n",
    "        \n",
    "        # Upsampling using conv\n",
    "        self.cv = nn.Sequential(\n",
    "            nn.ConvTranspose2d(\n",
    "                in_channels,\n",
    "                out_channels//2 if use_upsample else out_channels, \n",
    "                kernel_size=4, \n",
    "                stride=k, \n",
    "                padding=1\n",
    "            ),\n",
    "            nn.Conv2d(\n",
    "                out_channels//2 if use_upsample else out_channels, \n",
    "                out_channels//2 if use_upsample else out_channels, \n",
    "                kernel_size = 1, \n",
    "                stride=1, \n",
    "                padding=0\n",
    "            )\n",
    "        ) if use_conv else nn.Identity()\n",
    "        \n",
    "        # Upsamling using nn.Upsample\n",
    "        self.up = nn.Sequential(\n",
    "            nn.Upsample(\n",
    "                scale_factor=k, \n",
    "                mode = 'bilinear', \n",
    "                align_corners=False\n",
    "            ),\n",
    "            nn.Conv2d(\n",
    "                in_channels,\n",
    "                out_channels//2 if use_conv else out_channels, \n",
    "                kernel_size=1, \n",
    "                stride=1, \n",
    "                padding=0\n",
    "            )\n",
    "        ) if use_upsample else nn.Identity()\n",
    "        \n",
    "    def forward(self, x):\n",
    "        \n",
    "        if not self.use_conv:\n",
    "            return self.up(x)\n",
    "        \n",
    "        if not self.use_upsample:\n",
    "            return self.cv(x)\n",
    "        \n",
    "        return torch.cat([self.cv(x), self.up(x)], dim=1)\n"
   ]
  },
  {
   "cell_type": "code",
   "execution_count": 28,
   "id": "0c27d09d",
   "metadata": {},
   "outputs": [
    {
     "data": {
      "text/plain": [
       "torch.Size([4, 32, 64, 64])"
      ]
     },
     "execution_count": 28,
     "metadata": {},
     "output_type": "execute_result"
    }
   ],
   "source": [
    "layer = Upsample(16, 32, 2, True, True)\n",
    "x = torch.randn(4, 16, 32, 32)\n",
    "layer(x).shape"
   ]
  },
  {
   "cell_type": "code",
   "execution_count": 29,
   "id": "5c91809d",
   "metadata": {},
   "outputs": [],
   "source": [
    "class DownC(nn.Module):\n",
    "    \"\"\"\n",
    "    Perform Down-convolution on the input using following approach.\n",
    "    1. Conv + TimeEmbedding\n",
    "    2. Conv\n",
    "    3. Skip-connection from input x.\n",
    "    4. Self-Attention\n",
    "    5. Skip-Connection from 3.\n",
    "    6. Downsampling\n",
    "    \"\"\"\n",
    "    def __init__(self, \n",
    "                 in_channels:int, \n",
    "                 out_channels:int, \n",
    "                 t_emb_dim:int = 128, # Time Embedding Dimension\n",
    "                 num_layers:int=2,\n",
    "                 down_sample:bool = True # True for Downsampling\n",
    "                ):\n",
    "        super(DownC, self).__init__()\n",
    "        \n",
    "        self.num_layers = num_layers\n",
    "        \n",
    "        self.conv1 = nn.ModuleList([\n",
    "            NormActConv(in_channels if i==0 else out_channels, \n",
    "                        out_channels\n",
    "                       ) for i in range(num_layers)\n",
    "        ])\n",
    "        \n",
    "        self.conv2 = nn.ModuleList([\n",
    "            NormActConv(out_channels, \n",
    "                        out_channels\n",
    "                       ) for _ in range(num_layers)\n",
    "        ])\n",
    "        \n",
    "        self.te_block = nn.ModuleList([\n",
    "            TimeEmbedding(out_channels, t_emb_dim) for _ in range(num_layers)\n",
    "        ])\n",
    "        \n",
    "        self.attn_block = nn.ModuleList([\n",
    "            SelfAttentionBlock(out_channels) for _ in range(num_layers)\n",
    "        ])\n",
    "        \n",
    "        self.down_block =Downsample(out_channels, out_channels) if down_sample else nn.Identity()\n",
    "        \n",
    "        self.res_block = nn.ModuleList([\n",
    "            nn.Conv2d(\n",
    "                in_channels if i==0 else out_channels, \n",
    "                out_channels, \n",
    "                kernel_size=1\n",
    "            ) for i in range(num_layers)\n",
    "        ])\n",
    "        \n",
    "    def forward(self, x, t_emb):\n",
    "        \n",
    "        out = x\n",
    "        \n",
    "        for i in range(self.num_layers):\n",
    "            resnet_input = out\n",
    "            \n",
    "            # Resnet Block\n",
    "            out = self.conv1[i](out)\n",
    "            out = out + self.te_block[i](t_emb)[:, :, None, None]\n",
    "            out = self.conv2[i](out)\n",
    "            out = out + self.res_block[i](resnet_input)\n",
    "\n",
    "            # Self Attention\n",
    "            out_attn = self.attn_block[i](out)\n",
    "            out = out + out_attn\n",
    "\n",
    "        # Downsampling\n",
    "        out = self.down_block(out)\n",
    "        \n",
    "        return out"
   ]
  },
  {
   "cell_type": "code",
   "execution_count": 30,
   "id": "bafcb0e6",
   "metadata": {},
   "outputs": [],
   "source": [
    "class MidC(nn.Module):\n",
    "    \"\"\"\n",
    "    Refine the features obtained from the DownC block.\n",
    "    It refines the features using following operations:\n",
    "    \n",
    "    1. Resnet Block with Time Embedding\n",
    "    2. A Series of Self-Attention + Resnet Block with Time-Embedding \n",
    "    \"\"\"\n",
    "    def __init__(self, \n",
    "                 in_channels:int, \n",
    "                 out_channels:int,\n",
    "                 t_emb_dim:int = 128,\n",
    "                 num_layers:int = 2\n",
    "                ):\n",
    "        super(MidC, self).__init__()\n",
    "        \n",
    "        self.num_layers = num_layers\n",
    "        \n",
    "        self.conv1 = nn.ModuleList([\n",
    "            NormActConv(in_channels if i==0 else out_channels, \n",
    "                        out_channels\n",
    "                       ) for i in range(num_layers + 1)\n",
    "        ])\n",
    "        \n",
    "        self.conv2 = nn.ModuleList([\n",
    "            NormActConv(out_channels, \n",
    "                        out_channels\n",
    "                       ) for _ in range(num_layers + 1)\n",
    "        ])\n",
    "        \n",
    "        self.te_block = nn.ModuleList([\n",
    "            TimeEmbedding(out_channels, t_emb_dim) for _ in range(num_layers + 1)\n",
    "        ])\n",
    "        \n",
    "        self.attn_block = nn.ModuleList([\n",
    "            SelfAttentionBlock(out_channels) for _ in range(num_layers)\n",
    "        ])\n",
    "        \n",
    "        self.res_block = nn.ModuleList([\n",
    "            nn.Conv2d(\n",
    "                in_channels if i==0 else out_channels, \n",
    "                out_channels, \n",
    "                kernel_size=1\n",
    "            ) for i in range(num_layers + 1)\n",
    "        ])\n",
    "        \n",
    "    def forward(self, x, t_emb):\n",
    "        out = x\n",
    "        \n",
    "        # First-Resnet Block\n",
    "        resnet_input = out\n",
    "        out = self.conv1[0](out)\n",
    "        out = out + self.te_block[0](t_emb)[:, :, None, None]\n",
    "        out = self.conv2[0](out)\n",
    "        out = out + self.res_block[0](resnet_input)\n",
    "        \n",
    "        # Sequence of Self-Attention + Resnet Blocks\n",
    "        for i in range(self.num_layers):\n",
    "            \n",
    "            # Self Attention\n",
    "            out_attn = self.attn_block[i](out)\n",
    "            out = out + out_attn\n",
    "            \n",
    "            # Resnet Block\n",
    "            resnet_input = out\n",
    "            out = self.conv1[i+1](out)\n",
    "            out = out + self.te_block[i+1](t_emb)[:, :, None, None]\n",
    "            out = self.conv2[i+1](out)\n",
    "            out = out + self.res_block[i+1](resnet_input)\n",
    "            \n",
    "        return out"
   ]
  },
  {
   "cell_type": "code",
   "execution_count": 31,
   "id": "d62fa296",
   "metadata": {},
   "outputs": [],
   "source": [
    "class UpC(nn.Module):\n",
    "    \"\"\"\n",
    "    Perform Up-convolution on the input using following approach.\n",
    "    1. Upsampling\n",
    "    2. Conv + TimeEmbedding\n",
    "    3. Conv\n",
    "    4. Skip-connection from 1.\n",
    "    5. Self-Attention\n",
    "    6. Skip-Connection from 3.\n",
    "    \"\"\"\n",
    "    def __init__(self, \n",
    "                 in_channels:int, \n",
    "                 out_channels:int, \n",
    "                 t_emb_dim:int = 128, # Time Embedding Dimension\n",
    "                 num_layers:int = 2,\n",
    "                 up_sample:bool = True # True for Upsampling\n",
    "                ):\n",
    "        super(UpC, self).__init__()\n",
    "        \n",
    "        self.num_layers = num_layers\n",
    "        \n",
    "        self.conv1 = nn.ModuleList([\n",
    "            NormActConv(in_channels if i==0 else out_channels, \n",
    "                        out_channels\n",
    "                       ) for i in range(num_layers)\n",
    "        ])\n",
    "        \n",
    "        self.conv2 = nn.ModuleList([\n",
    "            NormActConv(out_channels, \n",
    "                        out_channels\n",
    "                       ) for _ in range(num_layers)\n",
    "        ])\n",
    "        \n",
    "        self.te_block = nn.ModuleList([\n",
    "            TimeEmbedding(out_channels, t_emb_dim) for _ in range(num_layers)\n",
    "        ])\n",
    "        \n",
    "        self.attn_block = nn.ModuleList([\n",
    "            SelfAttentionBlock(out_channels) for _ in range(num_layers)\n",
    "        ])\n",
    "        \n",
    "        self.up_block =Upsample(in_channels, in_channels//2) if up_sample else nn.Identity()\n",
    "        \n",
    "        self.res_block = nn.ModuleList([\n",
    "            nn.Conv2d(\n",
    "                in_channels if i==0 else out_channels, \n",
    "                out_channels, \n",
    "                kernel_size=1\n",
    "            ) for i in range(num_layers)\n",
    "        ])\n",
    "        \n",
    "    def forward(self, x, down_out, t_emb):\n",
    "        \n",
    "        # Upsampling\n",
    "        x = self.up_block(x)\n",
    "        x = torch.cat([x, down_out], dim=1)\n",
    "        \n",
    "        out = x\n",
    "        for i in range(self.num_layers):\n",
    "            resnet_input = out\n",
    "            \n",
    "            # Resnet Block\n",
    "            out = self.conv1[i](out)\n",
    "            out = out + self.te_block[i](t_emb)[:, :, None, None]\n",
    "            out = self.conv2[i](out)\n",
    "            out = out + self.res_block[i](resnet_input)\n",
    "\n",
    "            # Self Attention\n",
    "            out_attn = self.attn_block[i](out)\n",
    "            out = out + out_attn\n",
    "        \n",
    "        return out"
   ]
  },
  {
   "cell_type": "code",
   "execution_count": null,
   "id": "e471e2eb",
   "metadata": {},
   "outputs": [],
   "source": [
    "class Unet(nn.Module):\n",
    "    \"\"\"\n",
    "    U-net architecture which is used to predict noise\n",
    "    in the paper \"Denoising Diffusion Probabilistic Model\".\n",
    "    \n",
    "    U-net consists of Series of DownC blocks followed by MidC\n",
    "    followed by UpC.\n",
    "    \"\"\"\n",
    "    \n",
    "    def __init__(self,\n",
    "                 im_channels: int = 1, #mnist greyscale\n",
    "                 down_ch: list = [32, 64, 128, 256],\n",
    "                 mid_ch: list = [256, 256, 128],\n",
    "                 up_ch: list[int] = [256, 128, 64, 16],\n",
    "                 down_sample: list[bool] = [True, True, False],\n",
    "                 t_emb_dim: int = 128,\n",
    "                 num_downc_layers:int = 2, \n",
    "                 num_midc_layers:int = 2, \n",
    "                 num_upc_layers:int = 2\n",
    "                ):\n",
    "        super(Unet, self).__init__()\n",
    "        \n",
    "        self.im_channels = im_channels\n",
    "        self.down_ch = down_ch\n",
    "        self.mid_ch = mid_ch\n",
    "        self.up_ch = up_ch\n",
    "        self.t_emb_dim = t_emb_dim\n",
    "        self.down_sample = down_sample\n",
    "        self.num_downc_layers = num_downc_layers\n",
    "        self.num_midc_layers = num_midc_layers\n",
    "        self.num_upc_layers = num_upc_layers\n",
    "        \n",
    "        self.up_sample = list(reversed(self.down_sample)) # [False, True, True]\n",
    "        \n",
    "        # Initial Convolution\n",
    "        self.cv1 = nn.Conv2d(self.im_channels, self.down_ch[0], kernel_size=3, padding=1)\n",
    "        \n",
    "        # Initial Time Embedding Projection\n",
    "        self.t_proj = nn.Sequential(\n",
    "            nn.Linear(self.t_emb_dim, self.t_emb_dim), \n",
    "            nn.SiLU(), \n",
    "            nn.Linear(self.t_emb_dim, self.t_emb_dim)\n",
    "        )\n",
    "        \n",
    "        # DownC Blocks\n",
    "        self.downs = nn.ModuleList([\n",
    "            DownC(\n",
    "                self.down_ch[i], \n",
    "                self.down_ch[i+1], \n",
    "                self.t_emb_dim, \n",
    "                self.num_downc_layers, \n",
    "                self.down_sample[i]\n",
    "            ) for i in range(len(self.down_ch) - 1)\n",
    "        ])\n",
    "        \n",
    "        # MidC Block\n",
    "        self.mids = nn.ModuleList([\n",
    "            MidC(\n",
    "                self.mid_ch[i], \n",
    "                self.mid_ch[i+1], \n",
    "                self.t_emb_dim, \n",
    "                self.num_midc_layers\n",
    "            ) for i in range(len(self.mid_ch) - 1)\n",
    "        ])\n",
    "        \n",
    "        # UpC Block\n",
    "        self.ups = nn.ModuleList([\n",
    "            UpC(\n",
    "                self.up_ch[i], \n",
    "                self.up_ch[i+1], \n",
    "                self.t_emb_dim, \n",
    "                self.num_upc_layers, \n",
    "                self.up_sample[i]\n",
    "            ) for i in range(len(self.up_ch) - 1)\n",
    "        ])\n",
    "        \n",
    "        # Final Convolution\n",
    "        self.cv2 = nn.Sequential(\n",
    "            nn.GroupNorm(8, self.up_ch[-1]), \n",
    "            nn.Conv2d(self.up_ch[-1], self.im_channels, kernel_size=3, padding=1)\n",
    "        )\n",
    "        \n",
    "    def forward(self, x, t):\n",
    "        \n",
    "        out = self.cv1(x)\n",
    "        \n",
    "        # Time Projection\n",
    "        t_emb = get_time_embedding(t, self.t_emb_dim)\n",
    "        t_emb = self.t_proj(t_emb)\n",
    "        \n",
    "        # DownC outputs\n",
    "        down_outs = []\n",
    "        \n",
    "        for down in self.downs:\n",
    "            down_outs.append(out)\n",
    "            out = down(out, t_emb)\n",
    "        \n",
    "        # MidC outputs\n",
    "        for mid in self.mids:\n",
    "            out = mid(out, t_emb)\n",
    "        \n",
    "        # UpC Blocks\n",
    "        for up in self.ups:\n",
    "            down_out = down_outs.pop()\n",
    "            out = up(out, down_out, t_emb)\n",
    "            \n",
    "        # Final Conv\n",
    "        out = self.cv2(out)\n",
    "        \n",
    "        return out"
   ]
  },
  {
   "cell_type": "code",
   "execution_count": 33,
   "id": "b168e88f",
   "metadata": {},
   "outputs": [
    {
     "data": {
      "text/plain": [
       "torch.Size([4, 1, 32, 32])"
      ]
     },
     "execution_count": 33,
     "metadata": {},
     "output_type": "execute_result"
    }
   ],
   "source": [
    "# Test\n",
    "model = Unet()\n",
    "x = torch.randn(4, 1, 32, 32)\n",
    "t = torch.randint(0, 10, (4,))\n",
    "model(x, t).shape"
   ]
  },
  {
   "cell_type": "code",
   "execution_count": 34,
   "id": "c20d5ac5",
   "metadata": {},
   "outputs": [],
   "source": [
    "\n",
    "import pandas as pd\n",
    "import numpy as np\n",
    "import torchvision\n",
    "from torch.utils.data.dataset import Dataset\n",
    "\n",
    "class CustomMnistDataset(Dataset):\n",
    "    \"\"\"\n",
    "    Reads the MNIST data from csv file given file path.\n",
    "    \"\"\"\n",
    "    def __init__(self, csv_path, num_datapoints = None):\n",
    "        super(CustomMnistDataset, self).__init__()\n",
    "        \n",
    "        self.df = pd.read_csv(csv_path)\n",
    "        \n",
    "        # Will be useful later while evaluating\n",
    "        if num_datapoints is not None:\n",
    "            self.df = self.df.iloc[0:num_datapoints]\n",
    "      \n",
    "    def __len__(self):\n",
    "        return len(self.df)\n",
    "    \n",
    "    def  __getitem__(self, index):\n",
    "        # Read\n",
    "        img = self.df.iloc[index].filter(regex='pixel').values\n",
    "        img =  np.reshape(img, (28, 28)).astype(np.uint8)\n",
    "        \n",
    "        # Convert to Tensor\n",
    "        img_tensor = torchvision.transforms.ToTensor()(img) # [0, 1]\n",
    "        img_tensor = 2*img_tensor - 1 # [-1, 1]\n",
    "        \n",
    "        return img_tensor"
   ]
  },
  {
   "cell_type": "code",
   "execution_count": 35,
   "id": "31f1f0a3",
   "metadata": {},
   "outputs": [
    {
     "name": "stderr",
     "output_type": "stream",
     "text": [
      "<>:24: SyntaxWarning: invalid escape sequence '\\_'\n",
      "<>:25: SyntaxWarning: invalid escape sequence '\\_'\n",
      "<>:24: SyntaxWarning: invalid escape sequence '\\_'\n",
      "<>:25: SyntaxWarning: invalid escape sequence '\\_'\n",
      "/tmp/ipykernel_1232024/194427381.py:24: SyntaxWarning: invalid escape sequence '\\_'\n",
      "  samples_dir = \"./training_samples\\_kaggle\"\n",
      "/tmp/ipykernel_1232024/194427381.py:25: SyntaxWarning: invalid escape sequence '\\_'\n",
      "  final_model_path = \"./mnist_unet_final\\_kaggle\"\n"
     ]
    }
   ],
   "source": [
    "class CONFIG:\n",
    "    # Model Architecture\n",
    "    image_size = 28\n",
    "    in_channels = 1\n",
    "    out_channels = 1\n",
    "    layers_per_block = 2\n",
    "    block_out_channels = (64, 128, 256)  # 3 blocks for MNIST\n",
    "    down_block_types = (\"DownBlock2D\", \"DownBlock2D\", \"AttnDownBlock2D\")\n",
    "    up_block_types = (\"AttnUpBlock2D\", \"UpBlock2D\", \"UpBlock2D\")\n",
    "    \n",
    "    # Training Parameters\n",
    "    num_epochs = 50  # Increased from 10\n",
    "    batch_size = 128\n",
    "    learning_rate = 1e-4\n",
    "    num_train_timesteps = 1000\n",
    "    \n",
    "    # # RePaint Sampling Parameters\n",
    "    # repaint_steps = 300\n",
    "    # jump_length = 20\n",
    "    # jump_n_sample = 10\n",
    "    \n",
    "    # Paths (for your approach)\n",
    "    checkpoint_dir = \"./mnist_checkpoints_kaggle\"\n",
    "    samples_dir = \"./training_samples\\_kaggle\"\n",
    "    final_model_path = \"./mnist_unet_final\\_kaggle\"\n",
    "    \n",
    "    # Device\n",
    "    device = \"cuda:3\" if torch.cuda.is_available() else \"cpu\"\n",
    "    \n",
    "    # Visualization\n",
    "    num_samples_to_generate = 8\n",
    "    checkpoint_frequency = 5  # Save every 5 epochs\n",
    "    num_img_to_generate = 256\n",
    "    num_img_to_generate = 256"
   ]
  },
  {
   "cell_type": "code",
   "execution_count": null,
   "id": "8bb89c7e",
   "metadata": {},
   "outputs": [],
   "source": [
    "from torch.utils.data import DataLoader\n",
    "from tqdm import tqdm\n",
    "from torchvision import datasets, transforms\n",
    "from torch.utils.data import DataLoader\n",
    "import json\n",
    "import os\n",
    "from torch.utils.tensorboard import SummaryWriter \n",
    "from datetime import datetime\n",
    "\n",
    "def train(cfg):\n",
    "    \n",
    "    # Dataset and Dataloader\n",
    "    # mnist_ds = CustomMnistDataset(cfg.train_csv_path)\n",
    "    # mnist_dl = DataLoader(mnist_ds, cfg.batch_size, shuffle=True)\n",
    "    os.makedirs(\"./mnist_unet_kaggle\", exist_ok=True)\n",
    "    os.makedirs(\"./mnist_scheduler_kaggle\", exist_ok=True)\n",
    "\n",
    "    # Initialize TensorBoard writer\n",
    "    timestamp = datetime.now().strftime(\"%Y%m%d_%H%M%S\")\n",
    "    writer = SummaryWriter(f\"./runs/mnist_ddpm_{timestamp}\")  # ← TENSORBOARD\n",
    "    \n",
    "\n",
    "    transform = transforms.Compose([\n",
    "    transforms.ToTensor(),\n",
    "    transforms.Normalize([0.5], [0.5])\n",
    "])\n",
    "    train_dataset = datasets.MNIST(root=\"./data\", train=True, download=True, transform=transform)\n",
    "    train_dataloader = DataLoader(train_dataset, batch_size=CONFIG.batch_size, shuffle=True)\n",
    "    # Device\n",
    "    device = torch.device('cuda:3' if torch.cuda.is_available() else 'cpu')\n",
    "    print(f'Device: {device}\\n')\n",
    "    \n",
    "    # Initiate Model\n",
    "    model = Unet().to(device)\n",
    "    \n",
    "    # Initialize Optimizer and Loss Function\n",
    "    optimizer = torch.optim.Adam(model.parameters(), lr=CONFIG.learning_rate)\n",
    "    criterion = torch.nn.MSELoss()\n",
    "    \n",
    "    # Diffusion Forward Process to add noise\n",
    "    dfp = DiffusionForwardProcess()\n",
    "    \n",
    "    # Best Loss\n",
    "    best_eval_loss = float('inf')\n",
    "    global_step=0\n",
    "    \n",
    "    # Train\n",
    "    for epoch in range(cfg.num_epochs):\n",
    "        \n",
    "        # For Loss Tracking\n",
    "        losses = []\n",
    "        \n",
    "        # Set model to train mode\n",
    "        model.train()\n",
    "        \n",
    "        # Loop over dataloader\n",
    "        for imgs, _ in tqdm(train_dataloader):\n",
    "            \n",
    "            imgs = imgs.to(device)\n",
    "            \n",
    "            # Generate noise and timestamps\n",
    "            noise = torch.randn_like(imgs).to(device)\n",
    "            t = torch.randint(0, CONFIG.num_train_timesteps,(imgs.shape[0],)).to(device)\n",
    "            \n",
    "            # Add noise to the images using Forward Process\n",
    "            noisy_imgs = dfp.add_noise(imgs, noise, t)\n",
    "            \n",
    "            # Avoid Gradient Accumulation\n",
    "            optimizer.zero_grad()\n",
    "            \n",
    "            # Predict noise using U-net Model\n",
    "            noise_pred = model(noisy_imgs, t)\n",
    "            \n",
    "            # Calculate Loss\n",
    "            loss = criterion(noise_pred, noise)\n",
    "            losses.append(loss.item())\n",
    "            \n",
    "            # Backprop + Update model params\n",
    "            loss.backward()\n",
    "            optimizer.step()\n",
    "\n",
    "\n",
    "                        # Log batch loss to TensorBoard\n",
    "            writer.add_scalar('Loss/Batch', loss.item(), global_step)  # ← BATCH LOSS\n",
    "            global_step += 1\n",
    "        \n",
    "        # Epoch statistics\n",
    "        mean_epoch_loss = np.mean(losses)\n",
    "        min_epoch_loss = np.min(losses)\n",
    "        max_epoch_loss = np.max(losses)\n",
    "        \n",
    "        # Log epoch metrics to TensorBoard\n",
    "        writer.add_scalar('Loss/Epoch_Mean', mean_epoch_loss, epoch)  # ← EPOCH LOSS\n",
    "        writer.add_scalar('Loss/Epoch_Min', min_epoch_loss, epoch)\n",
    "        writer.add_scalar('Loss/Epoch_Max', max_epoch_loss, epoch)\n",
    "        writer.add_scalar('Learning_Rate', cfg.learning_rate, epoch)  # ← LEARNING RATE\n",
    "        \n",
    "        # Log sample images periodically\n",
    "        if epoch % 10 == 0:\n",
    "            with torch.no_grad():\n",
    "                # Generate sample images\n",
    "                model.eval()\n",
    "                sample_noise = torch.randn(4, 1, 28, 28).to(device)\n",
    "                sample_t = torch.tensor([cfg.num_train_timesteps // 2] * 4).to(device)\n",
    "                generated_imgs = model(sample_noise, sample_t)\n",
    "                model.train()\n",
    "                \n",
    "                # Add images to TensorBoard\n",
    "                writer.add_images('Generated_Samples', generated_imgs, epoch)  # ← GENERATED IMAGES\n",
    "        \n",
    "        # Display\n",
    "        print(f'Epoch:{epoch+1} | Loss : {mean_epoch_loss:.4f} (Min: {min_epoch_loss:.4f}, Max: {max_epoch_loss:.4f})')\n",
    "        \n",
    "        # Save based on train-loss\n",
    "        if mean_epoch_loss < best_eval_loss:\n",
    "            best_eval_loss = mean_epoch_loss\n",
    "            \n",
    "            # Save model and configs\n",
    "            torch.save(model.state_dict(), \"./mnist_unet_kaggle/model_weights.pth\")\n",
    "            \n",
    "            unet_config = {\n",
    "                \"best_loss\": float(best_eval_loss),\n",
    "                \"epoch\": epoch + 1,\n",
    "                \"global_step\": global_step\n",
    "            }\n",
    "            with open(\"./mnist_unet_kaggle/config.json\", \"w\") as f:\n",
    "                json.dump(unet_config, f, indent=4)\n",
    "            \n",
    "            scheduler_config = {\n",
    "                \"num_train_timesteps\": cfg.num_train_timesteps,\n",
    "            }\n",
    "            with open(\"./mnist_scheduler_kaggle/scheduler_config.json\", \"w\") as f:\n",
    "                json.dump(scheduler_config, f, indent=4)\n",
    "            \n",
    "            print(f\"✅ Checkpoint saved with loss: {best_eval_loss:.4f}\")\n",
    "            \n",
    "            # Log best loss to TensorBoard\n",
    "            writer.add_scalar('Best_Loss', best_eval_loss, epoch)  # ← BEST LOSS\n",
    "    \n",
    "    # Close TensorBoard writer\n",
    "    writer.close()  # ← IMPORTANT: Close writer\n",
    "    \n",
    "    print(f'Training completed! Best loss: {best_eval_loss:.4f}')\n",
    "    print(f\"TensorBoard logs saved to: ./runs/mnist_ddpm_{timestamp}\")\n",
    "    print(\"Start TensorBoard with: tensorboard --logdir=./runs\")\n",
    "        # # Mean Loss\n",
    "        # mean_epoch_loss = np.mean(losses)\n",
    "\n",
    "        \n",
    "    #     # Display\n",
    "    #     print('Epoch:{} | Loss : {:.4f}'.format(\n",
    "    #         epoch + 1,\n",
    "    #         mean_epoch_loss,\n",
    "    #     ))\n",
    "    #     torch.save(model.state_dict(), \"./mnist_unet_kaggle.pth\") #weights\n",
    "        \n",
    "    #      # 2. Save UNet config (similar to config.json)\n",
    "    #     unet_config = {\n",
    "    #             \"model_class\": \"Unet\",\n",
    "    #             \"in_channels\": 1,\n",
    "    #             \"image_size\": 28,\n",
    "    #             \"num_train_timesteps\": CONFIG.num_train_timesteps,\n",
    "    #             \"best_loss\": best_eval_loss,\n",
    "    #             \"epoch\": epoch + 1\n",
    "    #         }\n",
    "    #     with open(\"./mnist_unet_kaggle/config.json\", \"w\") as f:\n",
    "    #             json.dump(unet_config, f, indent=4)\n",
    "            \n",
    "    #         # 3. Save scheduler config (scheduler_config.json)\n",
    "    #     scheduler_config = {\n",
    "    #             \"scheduler_class\": \"DiffusionForwardProcess\",\n",
    "    #             \"num_train_timesteps\": CONFIG.num_train_timesteps,\n",
    "    #             \"beta_schedule\": \"linear\",\n",
    "    #             \"beta_start\": 0.0001,\n",
    "    #             \"beta_end\": 0.02\n",
    "    #         }\n",
    "    #     with open(\"./mnist_scheduler_kaggle/scheduler_config.json\", \"w\") as f:\n",
    "    #             json.dump(scheduler_config, f, indent=4)\n",
    "            \n",
    "    #     print(f\"Checkpoint saved with loss: {best_eval_loss:.4f}\")\n",
    "            \n",
    "    # print(f'Training completed! Best loss: {best_eval_loss:.4f}')\n",
    "\n"
   ]
  },
  {
   "cell_type": "code",
   "execution_count": 52,
   "id": "7daa5faf",
   "metadata": {},
   "outputs": [],
   "source": [
    "# Config\n",
    "cfg = CONFIG()\n",
    "\n"
   ]
  },
  {
   "cell_type": "code",
   "execution_count": 53,
   "id": "ded7257d",
   "metadata": {},
   "outputs": [
    {
     "name": "stdout",
     "output_type": "stream",
     "text": [
      "Device: cuda:3\n",
      "\n"
     ]
    },
    {
     "name": "stderr",
     "output_type": "stream",
     "text": [
      "100%|██████████| 469/469 [01:33<00:00,  5.04it/s]\n"
     ]
    },
    {
     "name": "stdout",
     "output_type": "stream",
     "text": [
      "Epoch:1 | Loss : 0.1371 (Min: 0.0415, Max: 1.1633)\n",
      "✅ Checkpoint saved with loss: 0.1371\n"
     ]
    },
    {
     "name": "stderr",
     "output_type": "stream",
     "text": [
      "100%|██████████| 469/469 [01:33<00:00,  5.04it/s]\n"
     ]
    },
    {
     "name": "stdout",
     "output_type": "stream",
     "text": [
      "Epoch:2 | Loss : 0.0503 (Min: 0.0334, Max: 0.0763)\n",
      "✅ Checkpoint saved with loss: 0.0503\n"
     ]
    },
    {
     "name": "stderr",
     "output_type": "stream",
     "text": [
      "100%|██████████| 469/469 [01:33<00:00,  5.04it/s]\n"
     ]
    },
    {
     "name": "stdout",
     "output_type": "stream",
     "text": [
      "Epoch:3 | Loss : 0.0407 (Min: 0.0271, Max: 0.0602)\n",
      "✅ Checkpoint saved with loss: 0.0407\n"
     ]
    },
    {
     "name": "stderr",
     "output_type": "stream",
     "text": [
      "100%|██████████| 469/469 [01:33<00:00,  5.04it/s]\n"
     ]
    },
    {
     "name": "stdout",
     "output_type": "stream",
     "text": [
      "Epoch:4 | Loss : 0.0353 (Min: 0.0222, Max: 0.0502)\n",
      "✅ Checkpoint saved with loss: 0.0353\n"
     ]
    },
    {
     "name": "stderr",
     "output_type": "stream",
     "text": [
      "100%|██████████| 469/469 [01:33<00:00,  5.04it/s]\n"
     ]
    },
    {
     "name": "stdout",
     "output_type": "stream",
     "text": [
      "Epoch:5 | Loss : 0.0331 (Min: 0.0220, Max: 0.0533)\n",
      "✅ Checkpoint saved with loss: 0.0331\n"
     ]
    },
    {
     "name": "stderr",
     "output_type": "stream",
     "text": [
      "100%|██████████| 469/469 [01:33<00:00,  5.04it/s]\n"
     ]
    },
    {
     "name": "stdout",
     "output_type": "stream",
     "text": [
      "Epoch:6 | Loss : 0.0311 (Min: 0.0191, Max: 0.0449)\n",
      "✅ Checkpoint saved with loss: 0.0311\n"
     ]
    },
    {
     "name": "stderr",
     "output_type": "stream",
     "text": [
      "100%|██████████| 469/469 [01:33<00:00,  5.04it/s]\n"
     ]
    },
    {
     "name": "stdout",
     "output_type": "stream",
     "text": [
      "Epoch:7 | Loss : 0.0298 (Min: 0.0185, Max: 0.0468)\n",
      "✅ Checkpoint saved with loss: 0.0298\n"
     ]
    },
    {
     "name": "stderr",
     "output_type": "stream",
     "text": [
      "100%|██████████| 469/469 [01:33<00:00,  5.04it/s]\n"
     ]
    },
    {
     "name": "stdout",
     "output_type": "stream",
     "text": [
      "Epoch:8 | Loss : 0.0288 (Min: 0.0194, Max: 0.0414)\n",
      "✅ Checkpoint saved with loss: 0.0288\n"
     ]
    },
    {
     "name": "stderr",
     "output_type": "stream",
     "text": [
      "100%|██████████| 469/469 [01:33<00:00,  5.04it/s]\n"
     ]
    },
    {
     "name": "stdout",
     "output_type": "stream",
     "text": [
      "Epoch:9 | Loss : 0.0279 (Min: 0.0193, Max: 0.0394)\n",
      "✅ Checkpoint saved with loss: 0.0279\n"
     ]
    },
    {
     "name": "stderr",
     "output_type": "stream",
     "text": [
      "100%|██████████| 469/469 [01:33<00:00,  5.04it/s]\n"
     ]
    },
    {
     "name": "stdout",
     "output_type": "stream",
     "text": [
      "Epoch:10 | Loss : 0.0271 (Min: 0.0182, Max: 0.0390)\n",
      "✅ Checkpoint saved with loss: 0.0271\n"
     ]
    },
    {
     "name": "stderr",
     "output_type": "stream",
     "text": [
      "100%|██████████| 469/469 [01:33<00:00,  5.04it/s]\n"
     ]
    },
    {
     "name": "stdout",
     "output_type": "stream",
     "text": [
      "Epoch:11 | Loss : 0.0266 (Min: 0.0180, Max: 0.0398)\n",
      "✅ Checkpoint saved with loss: 0.0266\n"
     ]
    },
    {
     "name": "stderr",
     "output_type": "stream",
     "text": [
      "100%|██████████| 469/469 [01:33<00:00,  5.04it/s]\n"
     ]
    },
    {
     "name": "stdout",
     "output_type": "stream",
     "text": [
      "Epoch:12 | Loss : 0.0262 (Min: 0.0170, Max: 0.0378)\n",
      "✅ Checkpoint saved with loss: 0.0262\n"
     ]
    },
    {
     "name": "stderr",
     "output_type": "stream",
     "text": [
      "100%|██████████| 469/469 [01:33<00:00,  5.04it/s]\n"
     ]
    },
    {
     "name": "stdout",
     "output_type": "stream",
     "text": [
      "Epoch:13 | Loss : 0.0259 (Min: 0.0157, Max: 0.0371)\n",
      "✅ Checkpoint saved with loss: 0.0259\n"
     ]
    },
    {
     "name": "stderr",
     "output_type": "stream",
     "text": [
      "100%|██████████| 469/469 [01:33<00:00,  5.04it/s]\n"
     ]
    },
    {
     "name": "stdout",
     "output_type": "stream",
     "text": [
      "Epoch:14 | Loss : 0.0258 (Min: 0.0162, Max: 0.0390)\n",
      "✅ Checkpoint saved with loss: 0.0258\n"
     ]
    },
    {
     "name": "stderr",
     "output_type": "stream",
     "text": [
      "100%|██████████| 469/469 [01:33<00:00,  5.04it/s]\n"
     ]
    },
    {
     "name": "stdout",
     "output_type": "stream",
     "text": [
      "Epoch:15 | Loss : 0.0252 (Min: 0.0171, Max: 0.0371)\n",
      "✅ Checkpoint saved with loss: 0.0252\n"
     ]
    },
    {
     "name": "stderr",
     "output_type": "stream",
     "text": [
      "100%|██████████| 469/469 [01:33<00:00,  5.04it/s]\n"
     ]
    },
    {
     "name": "stdout",
     "output_type": "stream",
     "text": [
      "Epoch:16 | Loss : 0.0249 (Min: 0.0152, Max: 0.0348)\n",
      "✅ Checkpoint saved with loss: 0.0249\n"
     ]
    },
    {
     "name": "stderr",
     "output_type": "stream",
     "text": [
      "100%|██████████| 469/469 [01:33<00:00,  5.04it/s]\n"
     ]
    },
    {
     "name": "stdout",
     "output_type": "stream",
     "text": [
      "Epoch:17 | Loss : 0.0249 (Min: 0.0165, Max: 0.0418)\n",
      "✅ Checkpoint saved with loss: 0.0249\n"
     ]
    },
    {
     "name": "stderr",
     "output_type": "stream",
     "text": [
      "100%|██████████| 469/469 [01:32<00:00,  5.04it/s]\n"
     ]
    },
    {
     "name": "stdout",
     "output_type": "stream",
     "text": [
      "Epoch:18 | Loss : 0.0246 (Min: 0.0161, Max: 0.0348)\n",
      "✅ Checkpoint saved with loss: 0.0246\n"
     ]
    },
    {
     "name": "stderr",
     "output_type": "stream",
     "text": [
      "100%|██████████| 469/469 [01:33<00:00,  5.04it/s]\n"
     ]
    },
    {
     "name": "stdout",
     "output_type": "stream",
     "text": [
      "Epoch:19 | Loss : 0.0243 (Min: 0.0158, Max: 0.0350)\n",
      "✅ Checkpoint saved with loss: 0.0243\n"
     ]
    },
    {
     "name": "stderr",
     "output_type": "stream",
     "text": [
      "100%|██████████| 469/469 [01:33<00:00,  5.04it/s]\n"
     ]
    },
    {
     "name": "stdout",
     "output_type": "stream",
     "text": [
      "Epoch:20 | Loss : 0.0241 (Min: 0.0153, Max: 0.0335)\n",
      "✅ Checkpoint saved with loss: 0.0241\n"
     ]
    },
    {
     "name": "stderr",
     "output_type": "stream",
     "text": [
      "100%|██████████| 469/469 [01:33<00:00,  5.03it/s]\n"
     ]
    },
    {
     "name": "stdout",
     "output_type": "stream",
     "text": [
      "Epoch:21 | Loss : 0.0240 (Min: 0.0153, Max: 0.0341)\n",
      "✅ Checkpoint saved with loss: 0.0240\n"
     ]
    },
    {
     "name": "stderr",
     "output_type": "stream",
     "text": [
      "100%|██████████| 469/469 [01:32<00:00,  5.05it/s]\n"
     ]
    },
    {
     "name": "stdout",
     "output_type": "stream",
     "text": [
      "Epoch:22 | Loss : 0.0237 (Min: 0.0163, Max: 0.0340)\n",
      "✅ Checkpoint saved with loss: 0.0237\n"
     ]
    },
    {
     "name": "stderr",
     "output_type": "stream",
     "text": [
      "100%|██████████| 469/469 [01:32<00:00,  5.04it/s]\n"
     ]
    },
    {
     "name": "stdout",
     "output_type": "stream",
     "text": [
      "Epoch:23 | Loss : 0.0233 (Min: 0.0151, Max: 0.0312)\n",
      "✅ Checkpoint saved with loss: 0.0233\n"
     ]
    },
    {
     "name": "stderr",
     "output_type": "stream",
     "text": [
      "100%|██████████| 469/469 [01:32<00:00,  5.05it/s]\n"
     ]
    },
    {
     "name": "stdout",
     "output_type": "stream",
     "text": [
      "Epoch:24 | Loss : 0.0233 (Min: 0.0163, Max: 0.0339)\n",
      "✅ Checkpoint saved with loss: 0.0233\n"
     ]
    },
    {
     "name": "stderr",
     "output_type": "stream",
     "text": [
      "100%|██████████| 469/469 [01:32<00:00,  5.05it/s]\n"
     ]
    },
    {
     "name": "stdout",
     "output_type": "stream",
     "text": [
      "Epoch:25 | Loss : 0.0232 (Min: 0.0154, Max: 0.0329)\n",
      "✅ Checkpoint saved with loss: 0.0232\n"
     ]
    },
    {
     "name": "stderr",
     "output_type": "stream",
     "text": [
      "100%|██████████| 469/469 [01:32<00:00,  5.05it/s]\n"
     ]
    },
    {
     "name": "stdout",
     "output_type": "stream",
     "text": [
      "Epoch:26 | Loss : 0.0234 (Min: 0.0151, Max: 0.0341)\n"
     ]
    },
    {
     "name": "stderr",
     "output_type": "stream",
     "text": [
      "100%|██████████| 469/469 [01:32<00:00,  5.05it/s]\n"
     ]
    },
    {
     "name": "stdout",
     "output_type": "stream",
     "text": [
      "Epoch:27 | Loss : 0.0231 (Min: 0.0161, Max: 0.0321)\n",
      "✅ Checkpoint saved with loss: 0.0231\n"
     ]
    },
    {
     "name": "stderr",
     "output_type": "stream",
     "text": [
      "100%|██████████| 469/469 [01:32<00:00,  5.05it/s]\n"
     ]
    },
    {
     "name": "stdout",
     "output_type": "stream",
     "text": [
      "Epoch:28 | Loss : 0.0230 (Min: 0.0152, Max: 0.0305)\n",
      "✅ Checkpoint saved with loss: 0.0230\n"
     ]
    },
    {
     "name": "stderr",
     "output_type": "stream",
     "text": [
      "100%|██████████| 469/469 [01:32<00:00,  5.05it/s]\n"
     ]
    },
    {
     "name": "stdout",
     "output_type": "stream",
     "text": [
      "Epoch:29 | Loss : 0.0227 (Min: 0.0147, Max: 0.0341)\n",
      "✅ Checkpoint saved with loss: 0.0227\n"
     ]
    },
    {
     "name": "stderr",
     "output_type": "stream",
     "text": [
      "100%|██████████| 469/469 [01:32<00:00,  5.05it/s]\n"
     ]
    },
    {
     "name": "stdout",
     "output_type": "stream",
     "text": [
      "Epoch:30 | Loss : 0.0227 (Min: 0.0147, Max: 0.0315)\n",
      "✅ Checkpoint saved with loss: 0.0227\n"
     ]
    },
    {
     "name": "stderr",
     "output_type": "stream",
     "text": [
      "100%|██████████| 469/469 [01:32<00:00,  5.05it/s]\n"
     ]
    },
    {
     "name": "stdout",
     "output_type": "stream",
     "text": [
      "Epoch:31 | Loss : 0.0228 (Min: 0.0166, Max: 0.0316)\n"
     ]
    },
    {
     "name": "stderr",
     "output_type": "stream",
     "text": [
      "100%|██████████| 469/469 [01:32<00:00,  5.05it/s]\n"
     ]
    },
    {
     "name": "stdout",
     "output_type": "stream",
     "text": [
      "Epoch:32 | Loss : 0.0228 (Min: 0.0156, Max: 0.0297)\n"
     ]
    },
    {
     "name": "stderr",
     "output_type": "stream",
     "text": [
      "100%|██████████| 469/469 [01:32<00:00,  5.05it/s]\n"
     ]
    },
    {
     "name": "stdout",
     "output_type": "stream",
     "text": [
      "Epoch:33 | Loss : 0.0227 (Min: 0.0162, Max: 0.0319)\n",
      "✅ Checkpoint saved with loss: 0.0227\n"
     ]
    },
    {
     "name": "stderr",
     "output_type": "stream",
     "text": [
      "100%|██████████| 469/469 [01:32<00:00,  5.05it/s]\n"
     ]
    },
    {
     "name": "stdout",
     "output_type": "stream",
     "text": [
      "Epoch:34 | Loss : 0.0226 (Min: 0.0151, Max: 0.0344)\n",
      "✅ Checkpoint saved with loss: 0.0226\n"
     ]
    },
    {
     "name": "stderr",
     "output_type": "stream",
     "text": [
      "100%|██████████| 469/469 [01:32<00:00,  5.05it/s]\n"
     ]
    },
    {
     "name": "stdout",
     "output_type": "stream",
     "text": [
      "Epoch:35 | Loss : 0.0226 (Min: 0.0160, Max: 0.0315)\n",
      "✅ Checkpoint saved with loss: 0.0226\n"
     ]
    },
    {
     "name": "stderr",
     "output_type": "stream",
     "text": [
      "100%|██████████| 469/469 [01:32<00:00,  5.05it/s]\n"
     ]
    },
    {
     "name": "stdout",
     "output_type": "stream",
     "text": [
      "Epoch:36 | Loss : 0.0223 (Min: 0.0142, Max: 0.0315)\n",
      "✅ Checkpoint saved with loss: 0.0223\n"
     ]
    },
    {
     "name": "stderr",
     "output_type": "stream",
     "text": [
      "100%|██████████| 469/469 [01:32<00:00,  5.05it/s]\n"
     ]
    },
    {
     "name": "stdout",
     "output_type": "stream",
     "text": [
      "Epoch:37 | Loss : 0.0225 (Min: 0.0135, Max: 0.0328)\n"
     ]
    },
    {
     "name": "stderr",
     "output_type": "stream",
     "text": [
      "100%|██████████| 469/469 [01:32<00:00,  5.05it/s]\n"
     ]
    },
    {
     "name": "stdout",
     "output_type": "stream",
     "text": [
      "Epoch:38 | Loss : 0.0223 (Min: 0.0135, Max: 0.0309)\n",
      "✅ Checkpoint saved with loss: 0.0223\n"
     ]
    },
    {
     "name": "stderr",
     "output_type": "stream",
     "text": [
      "100%|██████████| 469/469 [01:32<00:00,  5.05it/s]\n"
     ]
    },
    {
     "name": "stdout",
     "output_type": "stream",
     "text": [
      "Epoch:39 | Loss : 0.0223 (Min: 0.0139, Max: 0.0304)\n"
     ]
    },
    {
     "name": "stderr",
     "output_type": "stream",
     "text": [
      "100%|██████████| 469/469 [01:32<00:00,  5.05it/s]\n"
     ]
    },
    {
     "name": "stdout",
     "output_type": "stream",
     "text": [
      "Epoch:40 | Loss : 0.0220 (Min: 0.0145, Max: 0.0296)\n",
      "✅ Checkpoint saved with loss: 0.0220\n"
     ]
    },
    {
     "name": "stderr",
     "output_type": "stream",
     "text": [
      "100%|██████████| 469/469 [01:32<00:00,  5.05it/s]\n"
     ]
    },
    {
     "name": "stdout",
     "output_type": "stream",
     "text": [
      "Epoch:41 | Loss : 0.0222 (Min: 0.0152, Max: 0.0320)\n"
     ]
    },
    {
     "name": "stderr",
     "output_type": "stream",
     "text": [
      "100%|██████████| 469/469 [01:32<00:00,  5.05it/s]\n"
     ]
    },
    {
     "name": "stdout",
     "output_type": "stream",
     "text": [
      "Epoch:42 | Loss : 0.0221 (Min: 0.0141, Max: 0.0299)\n"
     ]
    },
    {
     "name": "stderr",
     "output_type": "stream",
     "text": [
      "100%|██████████| 469/469 [01:32<00:00,  5.05it/s]\n"
     ]
    },
    {
     "name": "stdout",
     "output_type": "stream",
     "text": [
      "Epoch:43 | Loss : 0.0221 (Min: 0.0143, Max: 0.0313)\n"
     ]
    },
    {
     "name": "stderr",
     "output_type": "stream",
     "text": [
      "100%|██████████| 469/469 [01:32<00:00,  5.05it/s]\n"
     ]
    },
    {
     "name": "stdout",
     "output_type": "stream",
     "text": [
      "Epoch:44 | Loss : 0.0219 (Min: 0.0149, Max: 0.0302)\n",
      "✅ Checkpoint saved with loss: 0.0219\n"
     ]
    },
    {
     "name": "stderr",
     "output_type": "stream",
     "text": [
      "100%|██████████| 469/469 [01:32<00:00,  5.05it/s]\n"
     ]
    },
    {
     "name": "stdout",
     "output_type": "stream",
     "text": [
      "Epoch:45 | Loss : 0.0221 (Min: 0.0140, Max: 0.0341)\n"
     ]
    },
    {
     "name": "stderr",
     "output_type": "stream",
     "text": [
      "100%|██████████| 469/469 [01:32<00:00,  5.05it/s]\n"
     ]
    },
    {
     "name": "stdout",
     "output_type": "stream",
     "text": [
      "Epoch:46 | Loss : 0.0219 (Min: 0.0153, Max: 0.0302)\n"
     ]
    },
    {
     "name": "stderr",
     "output_type": "stream",
     "text": [
      "100%|██████████| 469/469 [01:32<00:00,  5.05it/s]\n"
     ]
    },
    {
     "name": "stdout",
     "output_type": "stream",
     "text": [
      "Epoch:47 | Loss : 0.0221 (Min: 0.0138, Max: 0.0296)\n"
     ]
    },
    {
     "name": "stderr",
     "output_type": "stream",
     "text": [
      "100%|██████████| 469/469 [01:32<00:00,  5.05it/s]\n"
     ]
    },
    {
     "name": "stdout",
     "output_type": "stream",
     "text": [
      "Epoch:48 | Loss : 0.0217 (Min: 0.0132, Max: 0.0304)\n",
      "✅ Checkpoint saved with loss: 0.0217\n"
     ]
    },
    {
     "name": "stderr",
     "output_type": "stream",
     "text": [
      "100%|██████████| 469/469 [01:32<00:00,  5.05it/s]\n"
     ]
    },
    {
     "name": "stdout",
     "output_type": "stream",
     "text": [
      "Epoch:49 | Loss : 0.0220 (Min: 0.0158, Max: 0.0339)\n"
     ]
    },
    {
     "name": "stderr",
     "output_type": "stream",
     "text": [
      "100%|██████████| 469/469 [01:32<00:00,  5.05it/s]"
     ]
    },
    {
     "name": "stdout",
     "output_type": "stream",
     "text": [
      "Epoch:50 | Loss : 0.0218 (Min: 0.0142, Max: 0.0322)\n",
      "Training completed! Best loss: 0.0217\n",
      "TensorBoard logs saved to: ./runs/mnist_ddpm_20250925_182028\n",
      "Start TensorBoard with: tensorboard --logdir=./runs\n"
     ]
    },
    {
     "name": "stderr",
     "output_type": "stream",
     "text": [
      "\n"
     ]
    }
   ],
   "source": [
    "# TRAIN\n",
    "train(cfg)"
   ]
  },
  {
   "cell_type": "code",
   "execution_count": 54,
   "id": "c1256529",
   "metadata": {},
   "outputs": [],
   "source": [
    "def generate(cfg):\n",
    "    \"\"\"\n",
    "    Given Pretrained DDPM U-net model, Generate Real-life\n",
    "    Images from noise by going backward step by step. i.e.,\n",
    "    Mapping of Random Noise to Real-life images.\n",
    "    \"\"\"\n",
    "    \n",
    "    # Device\n",
    "    device = torch.device('cuda:3' if torch.cuda.is_available() else 'cpu')\n",
    "    #print(f'Device: {device}\\n')\n",
    "    \n",
    "    # Initialize Diffusion Reverse Process\n",
    "    drp = DiffusionReverseProcess()\n",
    "    \n",
    "    # Set model to eval mode\n",
    "    model = torch.load(cfg.final_model_path).to(device)\n",
    "    model.eval()\n",
    "    \n",
    "    # Generate Noise sample from N(0, 1)\n",
    "    xt = torch.randn(1, cfg.in_channels, cfg.image_size, cfg.image_size).to(device)\n",
    "    \n",
    "    # Denoise step by step by going backward.\n",
    "    with torch.no_grad():\n",
    "        for t in reversed(range(cfg.num_train_timesteps)):\n",
    "            noise_pred = model(xt, torch.as_tensor(t).unsqueeze(0).to(device))\n",
    "            xt, x0 = drp.sample_prev_timestep(xt, noise_pred, torch.as_tensor(t).to(device))\n",
    "\n",
    "    # Convert the image to proper scale\n",
    "    xt = torch.clamp(xt, -1., 1.).detach().cpu()\n",
    "    xt = (xt + 1) / 2\n",
    "    \n",
    "    return xt"
   ]
  },
  {
   "cell_type": "code",
   "execution_count": 55,
   "id": "4b1686ec",
   "metadata": {},
   "outputs": [
    {
     "data": {
      "image/png": "[encoded data removed]",
      "text/plain": [
       "<Figure size 800x800 with 64 Axes>"
      ]
     },
     "metadata": {},
     "output_type": "display_data"
    }
   ],
   "source": [
    "import os\n",
    "import matplotlib.pyplot as plt\n",
    "cfg = CONFIG()\n",
    "\n",
    "# Generate\n",
    "# generated_imgs = []\n",
    "# for i in tqdm(range(cfg.num_img_to_generate)):\n",
    "#     xt = generate(cfg)\n",
    "#     xt = 255 * xt[0][0].numpy()\n",
    "#     generated_imgs.append(xt.astype(np.uint8).flatten())\n",
    "\n",
    "# # Save Generated Data CSV\n",
    "# generated_df = pd.DataFrame(generated_imgs, columns=[f'pixel{i}' for i in range(784)])\n",
    "# generated_df.to_csv(cfg.generated_csv_path, index=False)\n",
    "\n",
    "os.makedirs(\"./generated_samples_kaggle\", exist_ok=True)\n",
    "generated_imgs = []\n",
    "for i in range(64):  # Generate 16 samples\n",
    "    with torch.no_grad():\n",
    "        # Your generation code here\n",
    "        xt = generate(cfg)  # This should return tensor in [0,1] range\n",
    "        img = xt[0][0].cpu().numpy()  # Get first image\n",
    "        \n",
    "        # Save as PNG\n",
    "        plt.imsave(f\"./generated_samples_kaggle/sample_{i:03d}.png\", img, cmap='gray')\n",
    "        generated_imgs.append(img)\n",
    "\n",
    "\n",
    "# Visualize in a grid (like they do)\n",
    "fig, axes = plt.subplots(8, 8, figsize=(8, 8))\n",
    "for i, ax in enumerate(axes.flat):\n",
    "    ax.imshow(generated_imgs[i], cmap='gray')\n",
    "    ax.axis('off')\n",
    "plt.tight_layout()\n",
    "plt.savefig(\"./generated_samples_kaggle/grid.png\", dpi=150, bbox_inches='tight')\n",
    "plt.show()"
   ]
  },
  {
   "cell_type": "code",
   "execution_count": null,
   "id": "5a650c2c",
   "metadata": {},
   "outputs": [],
   "source": []
  },
  {
   "cell_type": "code",
   "execution_count": 56,
   "id": "afeefe19",
   "metadata": {},
   "outputs": [
    {
     "name": "stdout",
     "output_type": "stream",
     "text": [
      "KAGGLE UNET ARCHITECTURE - 28×28 MNIST\n",
      "============================================================\n",
      "┌─────────────────────────────────────────────────────┐\n",
      "│ INPUT:       28×28×1 (MNIST image)                 │\n",
      "│ Conv1:       3×3 conv → 28×28×32                   │\n",
      "└─────────────────────────────────────────────────────┘\n",
      "                            ↓\n",
      "┌─────────────────────────────────────────────────────┐\n",
      "│ DOWN PATH (Encoder)                                │\n",
      "├─────────────────────────────────────────────────────┤\n",
      "│ DownC1: 28×28×32 → 14×14×64 (downsample 2×2)      │\n",
      "│ DownC2: 14×14×64 → 7×7×128   (downsample 2×2)     │\n",
      "│ DownC3: 7×7×128 → 7×7×256    (no downsample)      │\n",
      "└─────────────────────────────────────────────────────┘\n",
      "                            ↓\n",
      "┌─────────────────────────────────────────────────────┐\n",
      "│ BOTTLENECK (Middle)                               │\n",
      "├─────────────────────────────────────────────────────┤\n",
      "│ MidC1: 7×7×256 → 7×7×256 (process at low res)    │\n",
      "│ MidC2: 7×7×256 → 7×7×128                         │\n",
      "└─────────────────────────────────────────────────────┘\n",
      "                            ↓\n",
      "┌─────────────────────────────────────────────────────┐\n",
      "│ UP PATH (Decoder with Skip Connections)           │\n",
      "├─────────────────────────────────────────────────────┤\n",
      "│ UpC1: [7×7×128 + 7×7×256] → 14×14×128 (upsample) │\n",
      "│        ↑ skip from DownC3                        │\n",
      "│ UpC2: [14×14×128 + 14×14×64] → 28×28×64 (upsample)│\n",
      "│        ↑ skip from DownC2                        │\n",
      "│ UpC3: [28×28×64 + 28×28×32] → 28×28×16 (no upsample)\n",
      "│        ↑ skip from Conv1                         │\n",
      "└─────────────────────────────────────────────────────┘\n",
      "                            ↓\n",
      "┌─────────────────────────────────────────────────────┐\n",
      "│ OUTPUT:      28×28×1 (Predicted noise)            │\n",
      "└─────────────────────────────────────────────────────┘\n"
     ]
    }
   ],
   "source": [
    "def detailed_architecture_flow():\n",
    "    print(\"KAGGLE UNET ARCHITECTURE - 28×28 MNIST\")\n",
    "    print(\"=\" * 60)\n",
    "    \n",
    "    # Initial\n",
    "    print(\"┌─────────────────────────────────────────────────────┐\")\n",
    "    print(\"│ INPUT:       28×28×1 (MNIST image)                 │\")\n",
    "    print(\"│ Conv1:       3×3 conv → 28×28×32                   │\")\n",
    "    print(\"└─────────────────────────────────────────────────────┘\")\n",
    "    print(\"                            ↓\")\n",
    "    \n",
    "    # Down path\n",
    "    print(\"┌─────────────────────────────────────────────────────┐\")\n",
    "    print(\"│ DOWN PATH (Encoder)                                │\")\n",
    "    print(\"├─────────────────────────────────────────────────────┤\")\n",
    "    print(\"│ DownC1: 28×28×32 → 14×14×64 (downsample 2×2)      │\")\n",
    "    print(\"│ DownC2: 14×14×64 → 7×7×128   (downsample 2×2)     │\") \n",
    "    print(\"│ DownC3: 7×7×128 → 7×7×256    (no downsample)      │\")\n",
    "    print(\"└─────────────────────────────────────────────────────┘\")\n",
    "    print(\"                            ↓\")\n",
    "    \n",
    "    # Bottleneck\n",
    "    print(\"┌─────────────────────────────────────────────────────┐\")\n",
    "    print(\"│ BOTTLENECK (Middle)                               │\")\n",
    "    print(\"├─────────────────────────────────────────────────────┤\")\n",
    "    print(\"│ MidC1: 7×7×256 → 7×7×256 (process at low res)    │\")\n",
    "    print(\"│ MidC2: 7×7×256 → 7×7×128                         │\")\n",
    "    print(\"└─────────────────────────────────────────────────────┘\")\n",
    "    print(\"                            ↓\")\n",
    "    \n",
    "    # Up path with skip connections\n",
    "    print(\"┌─────────────────────────────────────────────────────┐\")\n",
    "    print(\"│ UP PATH (Decoder with Skip Connections)           │\")\n",
    "    print(\"├─────────────────────────────────────────────────────┤\")\n",
    "    print(\"│ UpC1: [7×7×128 + 7×7×256] → 14×14×128 (upsample) │\")\n",
    "    print(\"│        ↑ skip from DownC3                        │\")\n",
    "    print(\"│ UpC2: [14×14×128 + 14×14×64] → 28×28×64 (upsample)│\")\n",
    "    print(\"│        ↑ skip from DownC2                        │\")\n",
    "    print(\"│ UpC3: [28×28×64 + 28×28×32] → 28×28×16 (no upsample)\")\n",
    "    print(\"│        ↑ skip from Conv1                         │\")\n",
    "    print(\"└─────────────────────────────────────────────────────┘\")\n",
    "    print(\"                            ↓\")\n",
    "    \n",
    "    # Final\n",
    "    print(\"┌─────────────────────────────────────────────────────┐\")\n",
    "    print(\"│ OUTPUT:      28×28×1 (Predicted noise)            │\")\n",
    "    print(\"└─────────────────────────────────────────────────────┘\")\n",
    "\n",
    "# Visualize the flow\n",
    "detailed_architecture_flow()"
   ]
  },
  {
   "cell_type": "code",
   "execution_count": 57,
   "id": "82a7fb3a",
   "metadata": {},
   "outputs": [
    {
     "name": "stdout",
     "output_type": "stream",
     "text": [
      "Kaggle UNet Architecture for MNIST (28×28):\n",
      "==================================================\n",
      "Input:     28×28×1\n",
      "Conv1:     28×28×32  (3×3 conv)\n",
      "DownC1:   14×14×64 → 14×14\n",
      "DownC2:   7×7×128 → 7×7\n",
      "DownC3:   7×7×256 (no downsample)\n",
      "MidC:      7×7×128 (bottleneck)\n",
      "UpC1:    7×7×128 (no upsample)\n",
      "UpC2:    14×14×64 → 14×14\n",
      "UpC3:    28×28×16 → 28×28\n",
      "Output:    28×28×1\n",
      "==================================================\n"
     ]
    }
   ],
   "source": [
    "def visualize_kaggle_unet_architecture():\n",
    "    \"\"\"Visualize how the Kaggle UNet processes images\"\"\"\n",
    "    \n",
    "    # Default parameters from your Kaggle code\n",
    "    down_ch = [32, 64, 128, 256]\n",
    "    mid_ch = [256, 256, 128] \n",
    "    up_ch = [256, 128, 64, 16]\n",
    "    down_sample = [True, True, False]  # Only 3 down blocks for 4 down_ch values\n",
    "    up_sample = [False, True, True]    # Reversed\n",
    "    \n",
    "    print(\"Kaggle UNet Architecture for MNIST (28×28):\")\n",
    "    print(\"=\" * 50)\n",
    "    \n",
    "    # Input\n",
    "    print(\"Input:     28×28×1\")\n",
    "    \n",
    "    # Initial conv (no size change)\n",
    "    print(\"Conv1:     28×28×32  (3×3 conv)\")\n",
    "    \n",
    "    # Down path\n",
    "    current_size = 28\n",
    "    for i, (ch_in, ch_out, downsample) in enumerate(zip(down_ch[:-1], down_ch[1:], down_sample)):\n",
    "        if downsample:\n",
    "            current_size //= 2\n",
    "            size_change = f\"→ {current_size}×{current_size}\"\n",
    "        else:\n",
    "            size_change = \"(no downsample)\"\n",
    "        print(f\"DownC{i+1}:   {current_size}×{current_size}×{ch_out} {size_change}\")\n",
    "    \n",
    "    # Mid path (no size change)\n",
    "    print(f\"MidC:      {current_size}×{current_size}×{mid_ch[-1]} (bottleneck)\")\n",
    "    \n",
    "    # Up path  \n",
    "    for i, (ch_in, ch_out, upsample) in enumerate(zip(up_ch[:-1], up_ch[1:], up_sample)):\n",
    "        if upsample:\n",
    "            current_size *= 2\n",
    "            size_change = f\"→ {current_size}×{current_size}\"\n",
    "        else:\n",
    "            size_change = \"(no upsample)\"\n",
    "        print(f\"UpC{i+1}:    {current_size}×{current_size}×{ch_out} {size_change}\")\n",
    "    \n",
    "    # Output\n",
    "    print(f\"Output:    {current_size}×{current_size}×1\")\n",
    "    print(\"=\" * 50)\n",
    "\n",
    "# Run the visualization\n",
    "visualize_kaggle_unet_architecture()"
   ]
  },
  {
   "cell_type": "code",
   "execution_count": null,
   "id": "8ba01fb0",
   "metadata": {},
   "outputs": [],
   "source": []
  }
 ],
 "metadata": {
  "kernelspec": {
   "display_name": "torchy",
   "language": "python",
   "name": "python3"
  },
  "language_info": {
   "codemirror_mode": {
    "name": "ipython",
    "version": 3
   },
   "file_extension": ".py",
   "mimetype": "text/x-python",
   "name": "python",
   "nbconvert_exporter": "python",
   "pygments_lexer": "ipython3",
   "version": "3.12.11"
  }
 },
 "nbformat": 4,
 "nbformat_minor": 5
}
